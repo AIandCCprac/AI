{
 "cells": [
  {
   "cell_type": "code",
   "execution_count": null,
   "id": "d61543a6",
   "metadata": {},
   "outputs": [],
   "source": [
    "pip install nltk\n",
    "import nltk"
   ]
  },
  {
   "cell_type": "code",
   "execution_count": null,
   "id": "72e67071",
   "metadata": {},
   "outputs": [],
   "source": [
    "\n",
    "from nltk.chat.util import Chat,reflections\n",
    "pairs=[\n",
    "   ['(.*) are you','[i am fine thank you]']]\n",
    "chat=Chat(pairs, reflections)\n",
    "chat.converse()"
   ]
  },
  {
   "cell_type": "code",
   "execution_count": null,
   "id": "22fc09fc",
   "metadata": {},
   "outputs": [],
   "source": []
  }
 ],
 "metadata": {
  "kernelspec": {
   "display_name": "Python 3 (ipykernel)",
   "language": "python",
   "name": "python3"
  },
  "language_info": {
   "codemirror_mode": {
    "name": "ipython",
    "version": 3
   },
   "file_extension": ".py",
   "mimetype": "text/x-python",
   "name": "python",
   "nbconvert_exporter": "python",
   "pygments_lexer": "ipython3",
   "version": "3.10.9"
  }
 },
 "nbformat": 4,
 "nbformat_minor": 5
}
